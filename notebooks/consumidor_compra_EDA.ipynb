{
 "cells": [
  {
   "cell_type": "markdown",
   "metadata": {},
   "source": [
    "### 📜 Sobre o Conjunto de Dados\n",
    "\n",
    "O **Conjunto de Dados de Tendências de Compras** oferece uma visão abrangente sobre os comportamentos dos consumidores no setor de varejo.\n",
    "\n",
    "Abrangendo diversos elementos transacionais, demográficos e comportamentais, este conjunto de dados é uma fonte valiosa para compreender as preferências de compras dos clientes e aplicar estratégias de varejo baseadas em dados.\n",
    "\n",
    "#### **Colunas do Conjunto de Dados**\n",
    "* Customer ID = Número de identificação exclusivo que identifica o cliente.\n",
    "* Age = Idade do cliente.\n",
    "* Gender = Gênero do cliente (feminino, masculino, etc.).\n",
    "* Item Purchased = Nome do produto comprado pelo cliente.\n",
    "* Category = Categoria à qual o produto pertence (ex.: vestuário, eletrônicos).\n",
    "* Purchase Amount (USD) = Valor total da compra do cliente (em dólares americanos).\n",
    "* Location = Região geográfica ou cidade onde o cliente está localizado.\n",
    "* Size = Tamanho do produto comprado (ex.: P, M, G, GG).\n",
    "* Color = Cor do produto comprado.\n",
    "* Season = Estação em que a compra foi realizada (ex.: verão, inverno).\n",
    "* Review Rating = Classificação dada pelo cliente ao produto (geralmente de 1 a 5).\n",
    "* Subscription Status = Status de assinatura do cliente.\n",
    "* Payment Method = Método usado pelo cliente para o pagamento (ex.: cartão de crédito, PayPal).\n",
    "* Shipping Type = Método de envio do produto (ex.: envio padrão, envio expresso).\n",
    "* Discount Applied = Taxa de desconto aplicada durante a compra.\n",
    "* Promo Code Used = Código promocional usado pelo cliente durante a compra.\n",
    "* Previous Purchases = Lista de compras anteriores do cliente.\n",
    "* Preferred Payment Method = Método de pagamento preferido pelo cliente.\n",
    "* Frequency of Purchases = Frequência com que o cliente realiza compras (ex.: uma vez por semana, uma vez por mês)."
   ]
  }
 ],
 "metadata": {
  "language_info": {
   "name": "python"
  }
 },
 "nbformat": 4,
 "nbformat_minor": 2
}
